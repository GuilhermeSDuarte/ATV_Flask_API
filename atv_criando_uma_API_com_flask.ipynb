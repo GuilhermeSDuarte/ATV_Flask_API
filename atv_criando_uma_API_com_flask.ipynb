{
  "nbformat": 4,
  "nbformat_minor": 0,
  "metadata": {
    "colab": {
      "provenance": [],
      "authorship_tag": "ABX9TyMPFUAAYgqGZjDNFSnyWO2I",
      "include_colab_link": true
    },
    "kernelspec": {
      "name": "python3",
      "display_name": "Python 3"
    },
    "language_info": {
      "name": "python"
    }
  },
  "cells": [
    {
      "cell_type": "markdown",
      "metadata": {
        "id": "view-in-github",
        "colab_type": "text"
      },
      "source": [
        "<a href=\"https://colab.research.google.com/github/GuilhermeSDuarte/ATV_Flask_API/blob/main/atv_criando_uma_API_com_flask.ipynb\" target=\"_parent\"><img src=\"https://colab.research.google.com/assets/colab-badge.svg\" alt=\"Open In Colab\"/></a>"
      ]
    },
    {
      "cell_type": "code",
      "source": [
        "!pip install flask_ngrok"
      ],
      "metadata": {
        "id": "lJa5F05VFXpu"
      },
      "execution_count": null,
      "outputs": []
    },
    {
      "cell_type": "code",
      "execution_count": 51,
      "metadata": {
        "id": "39MqbG-CLII9"
      },
      "outputs": [],
      "source": [
        "from flask_ngrok import run_with_ngrok\n",
        "from flask import Flask\n",
        "from flask import jsonify"
      ]
    },
    {
      "cell_type": "code",
      "source": [
        "app = Flask(__name__)\n",
        "run_with_ngrok(app)"
      ],
      "metadata": {
        "id": "8gqhWcqj7sHu"
      },
      "execution_count": 52,
      "outputs": []
    },
    {
      "cell_type": "code",
      "source": [
        "mahesh = {\n",
        "    \"number\": 1,\n",
        "    \"name\": \"Mahesh\",\n",
        "    \"age\": 25,\n",
        "    \"city\": \"Bangalore\",\n",
        "    \"country\": \"India\"\n",
        "      }\n",
        "alex = {\n",
        "    \"number\": 2,\n",
        "    \"name\": \"Alex\",\n",
        "    \"age\": 26,\n",
        "    \"city\": \"London\",\n",
        "    \"country\": \"UK\"\n",
        "      }\n",
        "david = {\n",
        "    \"number\": 3,\n",
        "    \"name\": \"David\",\n",
        "    \"age\": 27,\n",
        "    \"city\": \"San Francisco\",\n",
        "    \"country\": \"USA\"\n",
        "      }\n",
        "john = {\n",
        "    \"number\": 4,\n",
        "    \"name\": \"John\",\n",
        "    \"age\": 28,\n",
        "    \"city\": \"Toronto\",\n",
        "    \"country\": \"Canada\"\n",
        "      }\n",
        "chris = {\n",
        "    \"number\": 5,\n",
        "    \"name\": \"Chris\",\n",
        "    \"age\": 29,\n",
        "    \"city\": \"Paris\",\n",
        "    \"country\": \"France\"\n",
        "      }"
      ],
      "metadata": {
        "id": "Ht4D8ziS76uy"
      },
      "execution_count": 53,
      "outputs": []
    },
    {
      "cell_type": "code",
      "source": [
        "@app.route(\"/index\")\n",
        "\n",
        "def home():\n",
        "  return jsonify(mahesh, alex, david, john, chris)"
      ],
      "metadata": {
        "id": "1BGQIJVaAYII"
      },
      "execution_count": 54,
      "outputs": []
    },
    {
      "cell_type": "code",
      "source": [
        "app.run()"
      ],
      "metadata": {
        "id": "9IxOTJaLA77z"
      },
      "execution_count": null,
      "outputs": []
    }
  ]
}